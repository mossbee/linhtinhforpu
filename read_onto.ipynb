{
 "cells": [
  {
   "cell_type": "code",
   "execution_count": 1,
   "metadata": {},
   "outputs": [
    {
     "name": "stdout",
     "output_type": "stream",
     "text": [
      "[legal_onto.Legal_Documents, legal_onto.Agencies, legal_onto.Legal_Normative_Document, legal_onto.Central_Level_Agencies, legal_onto.Local_Level_Agencies, legal_onto.Circulars, legal_onto.Constitution, legal_onto.Decisions, legal_onto.Prime_Minister, legal_onto.State_Auditor, legal_onto.Peoples_Committees_all_levels, legal_onto.President, legal_onto.Decrees, legal_onto.Joint_Resolutions, legal_onto.Laws, legal_onto.Ordinances, legal_onto.Resolutions, legal_onto.National_Assembly, legal_onto.Standing_Committee_of_the_National_Assembly, legal_onto.Presidium_of_the_Central_Committee_of_the_Vietnam_Fatherland_Front, legal_onto.Government, legal_onto.Judicial_Council_of_the_People_s_Supreme_Court, legal_onto.Peoples_Supreme_Court, legal_onto.Supreme_Peoples_Court, legal_onto.Peoples_Council_all_levels, legal_onto.Peoples_Council_of_Province, legal_onto.Peoples_Council_of_District, legal_onto.Peoples_Council_of_Commune, legal_onto.Peoples_Committee_of_Province, legal_onto.Peoples_Committee_of_District, legal_onto.Peoples_Committee_of_Commune, legal_onto.Ministry_and_Ministerial_Level_Agencies, legal_onto.Ministry_of_National_Defense, legal_onto.Ministry_of_Public_Security, legal_onto.Ministry_of_Foreign_Affairs, legal_onto.Ministry_of_Justice, legal_onto.Ministry_of_Finance, legal_onto.Ministry_of_Industry_and_Trade, legal_onto.Ministry_of_Labor_War_Invalids_and_Social_Affairs, legal_onto.Ministry_of_Transport, legal_onto.Ministry_of_Construction, legal_onto.Ministry_of_Information_and_Communications, legal_onto.Ministry_of_Education_and_Training, legal_onto.Ministry_of_Agriculture_and_Rural_Development, legal_onto.Ministry_of_Planning_and_Investment, legal_onto.Ministry_of_Home_Affairs, legal_onto.Ministry_of_Health, legal_onto.Ministry_of_Science_and_Technology, legal_onto.Ministry_of_Culture_Sports_and_Toursm, legal_onto.Ministry_of_Natural_Resources_and_Environment, legal_onto.Government_Inspectorate, legal_onto.The_State_Bank_of_Vietnam, legal_onto.Committee_for_Ethnic_Affairs, legal_onto.Office_of_the_Government, legal_onto.Joint_Circulars]\n",
      "[legal_onto.Legal_Documents, legal_onto.Agencies]\n",
      "[legal_onto.Legal_Normative_Document]\n",
      "[legal_onto.Legal_Normative_Document & legal_onto.canBePromulgatedBy.min(2, legal_onto.State_Auditor | legal_onto.Peoples_Supreme_Court | legal_onto.Supreme_Peoples_Court | legal_onto.Ministry_and_Ministerial_Level_Agencies) & legal_onto.canBePromulgatedBy.some(legal_onto.State_Auditor | legal_onto.Peoples_Supreme_Court | legal_onto.Supreme_Peoples_Court)]\n"
     ]
    },
    {
     "name": "stderr",
     "output_type": "stream",
     "text": [
      "* Owlready2 * Warning: optimized Cython parser module 'owlready2_optimized' is not available, defaulting to slower Python implementation\n"
     ]
    }
   ],
   "source": [
    "import owlready2\n",
    "from owlready2 import *\n",
    "\n",
    "# load legal_onto.owl\n",
    "onto = get_ontology(\"legal_onto.owl\").load()\n",
    "\n",
    "# print all classes\n",
    "print(list(onto.classes()))\n",
    "\n",
    "# print only subclasses of 'Thing'\n",
    "# print(list(onto.Thing.subclasses()))\n",
    "\n",
    "# print(Legal_Document.is_a)\n",
    "\n",
    "print(list(Thing.subclasses()))\n",
    "\n",
    "second_level = list(Thing.subclasses())[0]\n",
    "\n",
    "print(list(second_level.subclasses()))\n",
    "\n",
    "# print(list(Legal_Document.subclasses()))\n",
    "\n",
    "Joint_Circulars = onto.Joint_Circulars\n",
    "\n",
    "# extract constraint of Joint_Circulars\n",
    "print(Joint_Circulars.equivalent_to)\n"
   ]
  },
  {
   "cell_type": "code",
   "execution_count": 2,
   "metadata": {},
   "outputs": [
    {
     "ename": "TypeError",
     "evalue": "Thing.get_properties() missing 1 required positional argument: 'self'",
     "output_type": "error",
     "traceback": [
      "\u001b[1;31m---------------------------------------------------------------------------\u001b[0m",
      "\u001b[1;31mTypeError\u001b[0m                                 Traceback (most recent call last)",
      "Cell \u001b[1;32mIn[2], line 2\u001b[0m\n\u001b[0;32m      1\u001b[0m \u001b[38;5;66;03m# read onto, find rdfs domain of Joint_Circulars\u001b[39;00m\n\u001b[1;32m----> 2\u001b[0m \u001b[38;5;28mprint\u001b[39m(\u001b[43mJoint_Circulars\u001b[49m\u001b[38;5;241;43m.\u001b[39;49m\u001b[43mget_properties\u001b[49m\u001b[43m(\u001b[49m\u001b[43m)\u001b[49m)\n",
      "\u001b[1;31mTypeError\u001b[0m: Thing.get_properties() missing 1 required positional argument: 'self'"
     ]
    }
   ],
   "source": [
    "# read onto, find rdfs domain of Joint_Circulars\n"
   ]
  }
 ],
 "metadata": {
  "kernelspec": {
   "display_name": "Python 3",
   "language": "python",
   "name": "python3"
  },
  "language_info": {
   "codemirror_mode": {
    "name": "ipython",
    "version": 3
   },
   "file_extension": ".py",
   "mimetype": "text/x-python",
   "name": "python",
   "nbconvert_exporter": "python",
   "pygments_lexer": "ipython3",
   "version": "3.11.2"
  }
 },
 "nbformat": 4,
 "nbformat_minor": 2
}
