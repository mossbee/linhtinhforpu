{
 "cells": [
  {
   "cell_type": "code",
   "execution_count": 1,
   "metadata": {},
   "outputs": [
    {
     "name": "stderr",
     "output_type": "stream",
     "text": [
      "* Owlready2 * Warning: optimized Cython parser module 'owlready2_optimized' is not available, defaulting to slower Python implementation\n"
     ]
    }
   ],
   "source": [
    "from owlready2 import *\n",
    "import owlready2\n",
    "\n",
    "onto = get_ontology(\"http://test.org/onto.owl\")\n",
    "\n",
    "owlready2.JAVA_EXE = \"C:\\\\Program Files (x86)\\\\Java\\\\jre-1.8\\\\bin\\\\java.exe\"\n",
    "\n",
    "with onto:\n",
    "    class Drug(Thing):\n",
    "        def take(self): print(\"I took a drug\")\n",
    "\n",
    "    class ActivePrinciple(Thing):\n",
    "        pass\n",
    "\n",
    "    class has_for_active_principle(Drug >> ActivePrinciple):\n",
    "        python_name = \"active_principles\"\n",
    "\n",
    "    class Placebo(Drug):\n",
    "        equivalent_to = [Drug & Not(has_for_active_principle.some(ActivePrinciple))]\n",
    "        def take(self): print(\"I took a placebo\")\n",
    "\n",
    "    class SingleActivePrincipleDrug(Drug):\n",
    "        equivalent_to = [Drug & has_for_active_principle.exactly(1, ActivePrinciple)]\n",
    "        def take(self): print(\"I took a drug with a single active principle\")\n",
    "\n",
    "    class DrugAssociation(Drug):\n",
    "        equivalent_to = [Drug & has_for_active_principle.min(2, ActivePrinciple)]\n",
    "        def take(self): print(\"I took a drug with %s active principles\" % len(self.active_principles))\n",
    "\n",
    "acetaminophen   = ActivePrinciple(\"acetaminophen\")\n",
    "amoxicillin     = ActivePrinciple(\"amoxicillin\")\n",
    "clavulanic_acid = ActivePrinciple(\"clavulanic_acid\")\n",
    "\n",
    "AllDifferent([acetaminophen, amoxicillin, clavulanic_acid])\n",
    "\n",
    "drug1 = Drug(active_principles = [acetaminophen])\n",
    "drug2 = Drug(active_principles = [amoxicillin, clavulanic_acid])\n",
    "drug3 = Drug(active_principles = [])\n",
    "\n",
    "close_world(Drug)"
   ]
  },
  {
   "cell_type": "code",
   "execution_count": 3,
   "metadata": {},
   "outputs": [
    {
     "name": "stderr",
     "output_type": "stream",
     "text": [
      "* Owlready2 * Running HermiT...\n",
      "    C:\\Program Files (x86)\\Java\\jre-1.8\\bin\\java.exe -Xmx2000M -cp c:\\Users\\mossbee\\AppData\\Local\\Programs\\Python\\Python311\\Lib\\site-packages\\owlready2\\hermit;c:\\Users\\mossbee\\AppData\\Local\\Programs\\Python\\Python311\\Lib\\site-packages\\owlready2\\hermit\\HermiT.jar org.semanticweb.HermiT.cli.CommandLine -c -O -D -I file:///C:/Users/mossbee/AppData/Local/Temp/tmp_r1lfn0m\n"
     ]
    },
    {
     "ename": "OwlReadyJavaError",
     "evalue": "Java error message is:\nError occurred during initialization of VM\nCould not reserve enough space for 2048000KB object heap\n",
     "output_type": "error",
     "traceback": [
      "\u001b[1;31m---------------------------------------------------------------------------\u001b[0m",
      "\u001b[1;31mCalledProcessError\u001b[0m                        Traceback (most recent call last)",
      "File \u001b[1;32mc:\\Users\\mossbee\\AppData\\Local\\Programs\\Python\\Python311\\Lib\\site-packages\\owlready2\\reasoning.py:148\u001b[0m, in \u001b[0;36msync_reasoner_hermit\u001b[1;34m(x, infer_property_values, debug, keep_tmp_file)\u001b[0m\n\u001b[0;32m    147\u001b[0m \u001b[38;5;28;01mtry\u001b[39;00m:\n\u001b[1;32m--> 148\u001b[0m   output \u001b[38;5;241m=\u001b[39m \u001b[43msubprocess\u001b[49m\u001b[38;5;241;43m.\u001b[39;49m\u001b[43mcheck_output\u001b[49m\u001b[43m(\u001b[49m\u001b[43mcommand\u001b[49m\u001b[43m,\u001b[49m\u001b[43m \u001b[49m\u001b[43mstderr\u001b[49m\u001b[43m \u001b[49m\u001b[38;5;241;43m=\u001b[39;49m\u001b[43m \u001b[49m\u001b[43msubprocess\u001b[49m\u001b[38;5;241;43m.\u001b[39;49m\u001b[43mSTDOUT\u001b[49m\u001b[43m,\u001b[49m\u001b[43m \u001b[49m\u001b[38;5;241;43m*\u001b[39;49m\u001b[38;5;241;43m*\u001b[39;49m\u001b[43m_subprocess_kargs\u001b[49m\u001b[43m)\u001b[49m\n\u001b[0;32m    149\u001b[0m \u001b[38;5;28;01mexcept\u001b[39;00m subprocess\u001b[38;5;241m.\u001b[39mCalledProcessError \u001b[38;5;28;01mas\u001b[39;00m e:\n",
      "File \u001b[1;32mc:\\Users\\mossbee\\AppData\\Local\\Programs\\Python\\Python311\\Lib\\subprocess.py:466\u001b[0m, in \u001b[0;36mcheck_output\u001b[1;34m(timeout, *popenargs, **kwargs)\u001b[0m\n\u001b[0;32m    464\u001b[0m     kwargs[\u001b[38;5;124m'\u001b[39m\u001b[38;5;124minput\u001b[39m\u001b[38;5;124m'\u001b[39m] \u001b[38;5;241m=\u001b[39m empty\n\u001b[1;32m--> 466\u001b[0m \u001b[38;5;28;01mreturn\u001b[39;00m \u001b[43mrun\u001b[49m\u001b[43m(\u001b[49m\u001b[38;5;241;43m*\u001b[39;49m\u001b[43mpopenargs\u001b[49m\u001b[43m,\u001b[49m\u001b[43m \u001b[49m\u001b[43mstdout\u001b[49m\u001b[38;5;241;43m=\u001b[39;49m\u001b[43mPIPE\u001b[49m\u001b[43m,\u001b[49m\u001b[43m \u001b[49m\u001b[43mtimeout\u001b[49m\u001b[38;5;241;43m=\u001b[39;49m\u001b[43mtimeout\u001b[49m\u001b[43m,\u001b[49m\u001b[43m \u001b[49m\u001b[43mcheck\u001b[49m\u001b[38;5;241;43m=\u001b[39;49m\u001b[38;5;28;43;01mTrue\u001b[39;49;00m\u001b[43m,\u001b[49m\n\u001b[0;32m    467\u001b[0m \u001b[43m           \u001b[49m\u001b[38;5;241;43m*\u001b[39;49m\u001b[38;5;241;43m*\u001b[39;49m\u001b[43mkwargs\u001b[49m\u001b[43m)\u001b[49m\u001b[38;5;241m.\u001b[39mstdout\n",
      "File \u001b[1;32mc:\\Users\\mossbee\\AppData\\Local\\Programs\\Python\\Python311\\Lib\\subprocess.py:571\u001b[0m, in \u001b[0;36mrun\u001b[1;34m(input, capture_output, timeout, check, *popenargs, **kwargs)\u001b[0m\n\u001b[0;32m    570\u001b[0m     \u001b[38;5;28;01mif\u001b[39;00m check \u001b[38;5;129;01mand\u001b[39;00m retcode:\n\u001b[1;32m--> 571\u001b[0m         \u001b[38;5;28;01mraise\u001b[39;00m CalledProcessError(retcode, process\u001b[38;5;241m.\u001b[39margs,\n\u001b[0;32m    572\u001b[0m                                  output\u001b[38;5;241m=\u001b[39mstdout, stderr\u001b[38;5;241m=\u001b[39mstderr)\n\u001b[0;32m    573\u001b[0m \u001b[38;5;28;01mreturn\u001b[39;00m CompletedProcess(process\u001b[38;5;241m.\u001b[39margs, retcode, stdout, stderr)\n",
      "\u001b[1;31mCalledProcessError\u001b[0m: Command '['C:\\\\Program Files (x86)\\\\Java\\\\jre-1.8\\\\bin\\\\java.exe', '-Xmx2000M', '-cp', 'c:\\\\Users\\\\mossbee\\\\AppData\\\\Local\\\\Programs\\\\Python\\\\Python311\\\\Lib\\\\site-packages\\\\owlready2\\\\hermit;c:\\\\Users\\\\mossbee\\\\AppData\\\\Local\\\\Programs\\\\Python\\\\Python311\\\\Lib\\\\site-packages\\\\owlready2\\\\hermit\\\\HermiT.jar', 'org.semanticweb.HermiT.cli.CommandLine', '-c', '-O', '-D', '-I', 'file:///C:/Users/mossbee/AppData/Local/Temp/tmp_r1lfn0m']' returned non-zero exit status 1.",
      "\nDuring handling of the above exception, another exception occurred:\n",
      "\u001b[1;31mOwlReadyJavaError\u001b[0m                         Traceback (most recent call last)",
      "Cell \u001b[1;32mIn[3], line 6\u001b[0m\n\u001b[0;32m      3\u001b[0m \u001b[38;5;66;03m# Set JVM options\u001b[39;00m\n\u001b[0;32m      4\u001b[0m os\u001b[38;5;241m.\u001b[39menviron[\u001b[38;5;124m'\u001b[39m\u001b[38;5;124mJAVA_OPTS\u001b[39m\u001b[38;5;124m'\u001b[39m] \u001b[38;5;241m=\u001b[39m \u001b[38;5;124m'\u001b[39m\u001b[38;5;124m-Xms512m -Xmx1g\u001b[39m\u001b[38;5;124m'\u001b[39m\n\u001b[1;32m----> 6\u001b[0m \u001b[43msync_reasoner\u001b[49m\u001b[43m(\u001b[49m\u001b[43m)\u001b[49m\n",
      "File \u001b[1;32mc:\\Users\\mossbee\\AppData\\Local\\Programs\\Python\\Python311\\Lib\\site-packages\\owlready2\\reasoning.py:153\u001b[0m, in \u001b[0;36msync_reasoner_hermit\u001b[1;34m(x, infer_property_values, debug, keep_tmp_file)\u001b[0m\n\u001b[0;32m    151\u001b[0m     \u001b[38;5;28;01mraise\u001b[39;00m OwlReadyInconsistentOntologyError()\n\u001b[0;32m    152\u001b[0m   \u001b[38;5;28;01melse\u001b[39;00m:\n\u001b[1;32m--> 153\u001b[0m     \u001b[38;5;28;01mraise\u001b[39;00m OwlReadyJavaError(\u001b[38;5;124m\"\u001b[39m\u001b[38;5;124mJava error message is:\u001b[39m\u001b[38;5;130;01m\\n\u001b[39;00m\u001b[38;5;132;01m%s\u001b[39;00m\u001b[38;5;124m\"\u001b[39m \u001b[38;5;241m%\u001b[39m _decode(e\u001b[38;5;241m.\u001b[39mstderr \u001b[38;5;129;01mor\u001b[39;00m e\u001b[38;5;241m.\u001b[39moutput \u001b[38;5;129;01mor\u001b[39;00m \u001b[38;5;124mb\u001b[39m\u001b[38;5;124m\"\u001b[39m\u001b[38;5;124m\"\u001b[39m))\n\u001b[0;32m    155\u001b[0m output \u001b[38;5;241m=\u001b[39m _decode(output)\u001b[38;5;241m.\u001b[39mreplace(\u001b[38;5;124m\"\u001b[39m\u001b[38;5;130;01m\\r\u001b[39;00m\u001b[38;5;124m\"\u001b[39m,\u001b[38;5;124m\"\u001b[39m\u001b[38;5;124m\"\u001b[39m)\n\u001b[0;32m    157\u001b[0m \u001b[38;5;28;01mif\u001b[39;00m debug:\n",
      "\u001b[1;31mOwlReadyJavaError\u001b[0m: Java error message is:\nError occurred during initialization of VM\nCould not reserve enough space for 2048000KB object heap\n"
     ]
    }
   ],
   "source": [
    "import os\n",
    "\n",
    "# Set JVM options\n",
    "os.environ['JAVA_OPTS'] = '-Xms512m -Xmx1g'\n",
    "\n",
    "sync_reasoner()"
   ]
  }
 ],
 "metadata": {
  "kernelspec": {
   "display_name": "Python 3",
   "language": "python",
   "name": "python3"
  },
  "language_info": {
   "codemirror_mode": {
    "name": "ipython",
    "version": 3
   },
   "file_extension": ".py",
   "mimetype": "text/x-python",
   "name": "python",
   "nbconvert_exporter": "python",
   "pygments_lexer": "ipython3",
   "version": "3.11.2"
  }
 },
 "nbformat": 4,
 "nbformat_minor": 2
}
