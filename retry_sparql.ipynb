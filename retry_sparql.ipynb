{
 "cells": [
  {
   "cell_type": "code",
   "execution_count": 3,
   "metadata": {},
   "outputs": [],
   "source": [
    "# read ontology \"legal_ontology.owl\"\n",
    "# Joint_Circulars is subclass of Legal_Normative_Document\n",
    "# Legal_Normative_Document is subclass of Legal_Document\n",
    "# Legal_Document is subclass of Thing\n",
    "# write SPAQRL query to get constraints of Joint_Circulars\n",
    "\n",
    "from rdflib import Graph\n",
    "from rdflib.plugins.sparql import prepareQuery\n",
    "\n",
    "g = Graph()\n",
    "g.parse(\"legal_onto.owl\")\n",
    "\n",
    "q = prepareQuery('''\n",
    "\tSELECT ?x ?y\n",
    "\tWHERE {\n",
    "\t\t?x rdfs:subClassOf ?y .\n",
    "\t\t?x rdfs:label ?label .\n",
    "\t\tFILTER regex(?label, \"Joint_Circulars\", \"i\")\n",
    "\t}\n",
    "\t''',\n",
    "\tinitNs = { \"rdfs\": \"http://www.w3.org/2000/01/rdf-schema#\" }\n",
    ")\n",
    "\n",
    "for r in g.query(q):\n",
    "\tprint(r)"
   ]
  },
  {
   "cell_type": "code",
   "execution_count": 9,
   "metadata": {},
   "outputs": [
    {
     "name": "stdout",
     "output_type": "stream",
     "text": [
      "[]\n"
     ]
    }
   ],
   "source": [
    "from rdflib import Graph, Namespace, RDF, RDFS, OWL\n",
    "\n",
    "# Create a graph\n",
    "g = Graph()\n",
    "\n",
    "# Load your ontology (replace 'ontology.owl' with the path or URL of your ontology)\n",
    "g.parse('legal_onto.owl', format='xml')\n",
    "\n",
    "# Define relevant namespaces (update the URL based on your ontology namespace)\n",
    "EX = Namespace(\"http://www.semanticweb.org/ontologies/2024/8/#\")\n",
    "\n",
    "# SPARQL query to extract constraints of Joint_Circulars\n",
    "query = \"\"\"\n",
    "PREFIX rdf: <http://www.w3.org/1999/02/22-rdf-syntax-ns#>\n",
    "PREFIX rdfs: <http://www.w3.org/2000/01/rdf-schema#>\n",
    "PREFIX owl: <http://www.w3.org/2002/07/owl#>\n",
    "\n",
    "SELECT ?property ?constraintType ?constraintValue\n",
    "WHERE {\n",
    "    # Specify the class Joint_Circulars (change IRI to match your ontology)\n",
    "    ?property rdfs:domain <http://example.com/ontology#Joint_Circulars> .\n",
    "\n",
    "    # Fetch range constraints (if any)\n",
    "    OPTIONAL { ?property rdfs:range ?constraintValue .\n",
    "               BIND(\"range\" AS ?constraintType) }\n",
    "    \n",
    "    # Fetch min/max cardinality constraints\n",
    "    OPTIONAL { ?property owl:minCardinality ?constraintValue .\n",
    "               BIND(\"minCardinality\" AS ?constraintType) }\n",
    "    OPTIONAL { ?property owl:maxCardinality ?constraintValue .\n",
    "               BIND(\"maxCardinality\" AS ?constraintType) }\n",
    "    \n",
    "    # Fetch other kinds of constraints, e.g., allValuesFrom\n",
    "    OPTIONAL { ?restriction rdf:type owl:Restriction ;\n",
    "                             owl:onProperty ?property ;\n",
    "                             owl:allValuesFrom ?constraintValue .\n",
    "               BIND(\"allValuesFrom\" AS ?constraintType) }\n",
    "}\n",
    "\"\"\"\n",
    "\n",
    "# Run the query\n",
    "results = g.query(query)\n",
    "print(list(results))\n",
    "# Display results\n",
    "for row in results:\n",
    "    print(f\"Property: {row.property}, Constraint Type: {row.constraintType}, Constraint Value: {row.constraintValue}\")"
   ]
  },
  {
   "cell_type": "code",
   "execution_count": 10,
   "metadata": {},
   "outputs": [
    {
     "name": "stdout",
     "output_type": "stream",
     "text": [
      "Property: http://www.semanticweb.org/ontologies/2024/8/legal_ontology#canBePromulgatedBy, Restriction: N19a82e17fde24424913eb29855e7ce6d, Value: N20119ebabaeb405f9243151cf3f1dd98\n",
      "Property: http://www.semanticweb.org/ontologies/2024/8/legal_ontology#canBePromulgatedBy, Restriction: Ncd3ee42b593f467a998d77414aa404c1, Value: Nc4f83f8b967247f3bad6290b07614f4f\n",
      "Property: http://www.semanticweb.org/ontologies/2024/8/legal_ontology#canBePromulgatedBy, Restriction: Ncd3ee42b593f467a998d77414aa404c1, Value: 2\n",
      "Property: http://www.semanticweb.org/ontologies/2024/8/legal_ontology#canBePromulgatedBy, Restriction: N53eeb6516bac4140bae5c11343cc7579, Value: Nf5de7086a1a845d3a76d661a32f71de1\n"
     ]
    }
   ],
   "source": [
    "import rdflib\n",
    "\n",
    "# Load the ontology from an OWL file\n",
    "g = rdflib.Graph()\n",
    "g.parse(\"legal_onto.owl\")\n",
    "\n",
    "# Define the SPARQL query to extract constraints on Joint_Circulars\n",
    "query = \"\"\"\n",
    "PREFIX rdf: <http://www.w3.org/1999/02/22-rdf-syntax-ns#>\n",
    "PREFIX owl: <http://www.w3.org/2002/07/owl#>\n",
    "PREFIX rdfs: <http://www.w3.org/2000/01/rdf-schema#>\n",
    "\n",
    "SELECT ?property ?restriction ?value\n",
    "WHERE {\n",
    "  ?jointCirculars rdf:type owl:Class ;\n",
    "                  owl:equivalentClass ?equivalentClass .\n",
    "  \n",
    "  ?equivalentClass owl:intersectionOf ?intersection .\n",
    "  ?intersection rdf:rest*/rdf:first ?restriction .\n",
    "  \n",
    "  ?restriction owl:onProperty ?property ;\n",
    "               ?constraintType ?value .\n",
    "  FILTER (?constraintType IN (owl:minQualifiedCardinality, owl:someValuesFrom, owl:onClass))\n",
    "}\n",
    "\"\"\"\n",
    "\n",
    "# Execute the query\n",
    "results = g.query(query)\n",
    "\n",
    "# Print the results\n",
    "for row in results:\n",
    "    print(f\"Property: {row.property}, Restriction: {row.restriction}, Value: {row.value}\")\n"
   ]
  },
  {
   "cell_type": "code",
   "execution_count": 11,
   "metadata": {},
   "outputs": [
    {
     "ename": "AttributeError",
     "evalue": "restrictionReadable",
     "output_type": "error",
     "traceback": [
      "\u001b[1;31m---------------------------------------------------------------------------\u001b[0m",
      "\u001b[1;31mAttributeError\u001b[0m                            Traceback (most recent call last)",
      "Cell \u001b[1;32mIn[11], line 43\u001b[0m\n\u001b[0;32m     41\u001b[0m \u001b[38;5;28;01mfor\u001b[39;00m row \u001b[38;5;129;01min\u001b[39;00m results:\n\u001b[0;32m     42\u001b[0m     \u001b[38;5;28mproperty\u001b[39m \u001b[38;5;241m=\u001b[39m row\u001b[38;5;241m.\u001b[39mproperty\u001b[38;5;241m.\u001b[39msplit(\u001b[38;5;124m'\u001b[39m\u001b[38;5;124m#\u001b[39m\u001b[38;5;124m'\u001b[39m)[\u001b[38;5;241m-\u001b[39m\u001b[38;5;241m1\u001b[39m]  \u001b[38;5;66;03m# Extract readable property name\u001b[39;00m\n\u001b[1;32m---> 43\u001b[0m     restriction \u001b[38;5;241m=\u001b[39m \u001b[43mrow\u001b[49m\u001b[38;5;241;43m.\u001b[39;49m\u001b[43mrestrictionReadable\u001b[49m\n\u001b[0;32m     44\u001b[0m     value \u001b[38;5;241m=\u001b[39m row\u001b[38;5;241m.\u001b[39mvalueReadable\n\u001b[0;32m     45\u001b[0m     cardinality \u001b[38;5;241m=\u001b[39m row\u001b[38;5;241m.\u001b[39mcardinality \u001b[38;5;28;01mif\u001b[39;00m row\u001b[38;5;241m.\u001b[39mcardinality \u001b[38;5;28;01melse\u001b[39;00m \u001b[38;5;124m\"\u001b[39m\u001b[38;5;124mN/A\u001b[39m\u001b[38;5;124m\"\u001b[39m\n",
      "File \u001b[1;32mc:\\Users\\mossbee\\AppData\\Local\\Programs\\Python\\Python311\\Lib\\site-packages\\rdflib\\query.py:166\u001b[0m, in \u001b[0;36mResultRow.__getattr__\u001b[1;34m(self, name)\u001b[0m\n\u001b[0;32m    164\u001b[0m \u001b[38;5;28;01mdef\u001b[39;00m \u001b[38;5;21m__getattr__\u001b[39m(\u001b[38;5;28mself\u001b[39m, name: \u001b[38;5;28mstr\u001b[39m) \u001b[38;5;241m-\u001b[39m\u001b[38;5;241m>\u001b[39m \u001b[38;5;124m\"\u001b[39m\u001b[38;5;124mIdentifier\u001b[39m\u001b[38;5;124m\"\u001b[39m:\n\u001b[0;32m    165\u001b[0m     \u001b[38;5;28;01mif\u001b[39;00m name \u001b[38;5;129;01mnot\u001b[39;00m \u001b[38;5;129;01min\u001b[39;00m \u001b[38;5;28mself\u001b[39m\u001b[38;5;241m.\u001b[39mlabels:\n\u001b[1;32m--> 166\u001b[0m         \u001b[38;5;28;01mraise\u001b[39;00m \u001b[38;5;167;01mAttributeError\u001b[39;00m(name)\n\u001b[0;32m    167\u001b[0m     \u001b[38;5;28;01mreturn\u001b[39;00m \u001b[38;5;28mtuple\u001b[39m\u001b[38;5;241m.\u001b[39m\u001b[38;5;21m__getitem__\u001b[39m(\u001b[38;5;28mself\u001b[39m, \u001b[38;5;28mself\u001b[39m\u001b[38;5;241m.\u001b[39mlabels[name])\n",
      "\u001b[1;31mAttributeError\u001b[0m: restrictionReadable"
     ]
    }
   ],
   "source": [
    "import rdflib\n",
    "\n",
    "# Load the ontology from an OWL file\n",
    "g = rdflib.Graph()\n",
    "g.parse(\"legal_onto.owl\")\n",
    "\n",
    "# Define the SPARQL query to extract human-readable constraints on Joint_Circulars\n",
    "query = \"\"\"\n",
    "PREFIX rdf: <http://www.w3.org/1999/02/22-rdf-syntax-ns#>\n",
    "PREFIX owl: <http://www.w3.org/2002/07/owl#>\n",
    "PREFIX rdfs: <http://www.w3.org/2000/01/rdf-schema#>\n",
    "\n",
    "SELECT ?property ?restrictionLabel ?valueLabel ?cardinality\n",
    "WHERE {\n",
    "  ?jointCirculars rdf:type owl:Class ;\n",
    "                  owl:equivalentClass ?equivalentClass .\n",
    "  \n",
    "  ?equivalentClass owl:intersectionOf ?intersection .\n",
    "  ?intersection rdf:rest*/rdf:first ?restriction .\n",
    "  \n",
    "  ?restriction owl:onProperty ?property ;\n",
    "               owl:onClass|owl:someValuesFrom ?value .\n",
    "  \n",
    "  OPTIONAL { ?restriction rdfs:label ?restrictionLabel . }\n",
    "  OPTIONAL { ?value rdfs:label ?valueLabel . }\n",
    "  \n",
    "  OPTIONAL {\n",
    "    ?restriction owl:minQualifiedCardinality ?cardinality .\n",
    "  }\n",
    "  \n",
    "  # In case of blank nodes, fall back to showing the URI or value\n",
    "  BIND(COALESCE(?restrictionLabel, STR(?restriction)) AS ?restrictionReadable)\n",
    "  BIND(COALESCE(?valueLabel, STR(?value)) AS ?valueReadable)\n",
    "}\n",
    "\"\"\"\n",
    "\n",
    "# Execute the query\n",
    "results = g.query(query)\n",
    "\n",
    "# Print the results in a human-readable format\n",
    "for row in results:\n",
    "    property = row.property.split('#')[-1]  # Extract readable property name\n",
    "    restriction = row.restrictionReadable\n",
    "    value = row.valueReadable\n",
    "    cardinality = row.cardinality if row.cardinality else \"N/A\"\n",
    "    print(f\"Property: {property}, Restriction: {restriction}, Value: {value}, Cardinality: {cardinality}\")\n"
   ]
  }
 ],
 "metadata": {
  "kernelspec": {
   "display_name": "Python 3",
   "language": "python",
   "name": "python3"
  },
  "language_info": {
   "codemirror_mode": {
    "name": "ipython",
    "version": 3
   },
   "file_extension": ".py",
   "mimetype": "text/x-python",
   "name": "python",
   "nbconvert_exporter": "python",
   "pygments_lexer": "ipython3",
   "version": "3.11.2"
  }
 },
 "nbformat": 4,
 "nbformat_minor": 2
}
