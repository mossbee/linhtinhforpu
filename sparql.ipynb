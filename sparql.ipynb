{
 "cells": [
  {
   "cell_type": "code",
   "execution_count": 2,
   "metadata": {},
   "outputs": [
    {
     "name": "stderr",
     "output_type": "stream",
     "text": [
      "get_ontology(\"http://www.semanticweb.org/ontologies/2024/8/legal_ontology#\") does not look like a valid URI, trying to serialize this will break.\n",
      "get_ontology(\"http://www.semanticweb.org/ontologies/2024/8/legal_ontology#\")Joint_Circulars does not look like a valid URI, trying to serialize this will break.\n",
      "get_ontology(\"http://www.semanticweb.org/ontologies/2024/8/legal_ontology#\")Joint_Circulars does not look like a valid URI, trying to serialize this will break.\n"
     ]
    }
   ],
   "source": [
    "# read ontology \"legal_ontology.owl\" and write SPAQRL query to get constraints of Joint_Circulars class\n",
    "from owlready2 import *\n",
    "import rdflib\n",
    "from rdflib.plugins.sparql import prepareQuery\n",
    "\n",
    "onto = get_ontology(\"E:\\DEC\\legal_onto.owl\").load()\n",
    "graph = default_world.as_rdflib_graph()\n",
    "\n",
    "q = prepareQuery('''\n",
    "SELECT ?s ?p ?o\n",
    "WHERE {\n",
    "  ?s ?p ?o .\n",
    "  ?s rdf:type onto:Joint_Circulars .\n",
    "}\n",
    "''',\n",
    "initNs = { \"onto\": onto })\n",
    "\n",
    "for r in graph.query(q):\n",
    "    print(r)\n",
    "    \n",
    "# print(graph.serialize(format='turtle').decode('utf-8'))\n",
    "# print(graph.serialize(format='xml\n",
    "\n",
    "# print(graph.serialize(format='n3').decode('utf-8'))\n",
    "# print(graph.serialize(format='nt').decode('utf-8'))\n",
    "# print(graph.serialize(format='trig').decode('utf-8'))\n",
    "# print(graph.serialize(format='json-ld').decode('utf-8'))"
   ]
  }
 ],
 "metadata": {
  "kernelspec": {
   "display_name": "Python 3",
   "language": "python",
   "name": "python3"
  },
  "language_info": {
   "codemirror_mode": {
    "name": "ipython",
    "version": 3
   },
   "file_extension": ".py",
   "mimetype": "text/x-python",
   "name": "python",
   "nbconvert_exporter": "python",
   "pygments_lexer": "ipython3",
   "version": "3.11.2"
  }
 },
 "nbformat": 4,
 "nbformat_minor": 2
}
